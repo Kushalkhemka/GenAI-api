{
  "nbformat": 4,
  "nbformat_minor": 0,
  "metadata": {
    "colab": {
      "provenance": [],
      "authorship_tag": "ABX9TyOPBQcOVdsMuMwSS81v/jDG",
      "include_colab_link": true
    },
    "kernelspec": {
      "name": "python3",
      "display_name": "Python 3"
    },
    "language_info": {
      "name": "python"
    }
  },
  "cells": [
    {
      "cell_type": "markdown",
      "metadata": {
        "id": "view-in-github",
        "colab_type": "text"
      },
      "source": [
        "<a href=\"https://colab.research.google.com/github/Kushalkhemka/GenAI-api/blob/main/AIMS_GenAI_API_Tasks.ipynb\" target=\"_parent\"><img src=\"https://colab.research.google.com/assets/colab-badge.svg\" alt=\"Open In Colab\"/></a>"
      ]
    },
    {
      "cell_type": "code",
      "execution_count": null,
      "metadata": {
        "id": "btLrgIMprux1"
      },
      "outputs": [],
      "source": [
        "from google.colab import userdata\n",
        "gpt_apikey = userdata.get('gpt-turbo')"
      ]
    },
    {
      "cell_type": "code",
      "source": [
        "!pip install openai"
      ],
      "metadata": {
        "colab": {
          "base_uri": "https://localhost:8080/"
        },
        "id": "rrfbQQp9shPy",
        "outputId": "b8cd3418-fc01-4c2b-8db3-a7a0b8a24a3f"
      },
      "execution_count": null,
      "outputs": [
        {
          "output_type": "stream",
          "name": "stdout",
          "text": [
            "Requirement already satisfied: openai in /usr/local/lib/python3.10/dist-packages (1.57.4)\n",
            "Requirement already satisfied: anyio<5,>=3.5.0 in /usr/local/lib/python3.10/dist-packages (from openai) (3.7.1)\n",
            "Requirement already satisfied: distro<2,>=1.7.0 in /usr/local/lib/python3.10/dist-packages (from openai) (1.9.0)\n",
            "Requirement already satisfied: httpx<1,>=0.23.0 in /usr/local/lib/python3.10/dist-packages (from openai) (0.28.1)\n",
            "Requirement already satisfied: jiter<1,>=0.4.0 in /usr/local/lib/python3.10/dist-packages (from openai) (0.8.2)\n",
            "Requirement already satisfied: pydantic<3,>=1.9.0 in /usr/local/lib/python3.10/dist-packages (from openai) (2.10.3)\n",
            "Requirement already satisfied: sniffio in /usr/local/lib/python3.10/dist-packages (from openai) (1.3.1)\n",
            "Requirement already satisfied: tqdm>4 in /usr/local/lib/python3.10/dist-packages (from openai) (4.67.1)\n",
            "Requirement already satisfied: typing-extensions<5,>=4.11 in /usr/local/lib/python3.10/dist-packages (from openai) (4.12.2)\n",
            "Requirement already satisfied: idna>=2.8 in /usr/local/lib/python3.10/dist-packages (from anyio<5,>=3.5.0->openai) (3.10)\n",
            "Requirement already satisfied: exceptiongroup in /usr/local/lib/python3.10/dist-packages (from anyio<5,>=3.5.0->openai) (1.2.2)\n",
            "Requirement already satisfied: certifi in /usr/local/lib/python3.10/dist-packages (from httpx<1,>=0.23.0->openai) (2024.12.14)\n",
            "Requirement already satisfied: httpcore==1.* in /usr/local/lib/python3.10/dist-packages (from httpx<1,>=0.23.0->openai) (1.0.7)\n",
            "Requirement already satisfied: h11<0.15,>=0.13 in /usr/local/lib/python3.10/dist-packages (from httpcore==1.*->httpx<1,>=0.23.0->openai) (0.14.0)\n",
            "Requirement already satisfied: annotated-types>=0.6.0 in /usr/local/lib/python3.10/dist-packages (from pydantic<3,>=1.9.0->openai) (0.7.0)\n",
            "Requirement already satisfied: pydantic-core==2.27.1 in /usr/local/lib/python3.10/dist-packages (from pydantic<3,>=1.9.0->openai) (2.27.1)\n"
          ]
        }
      ]
    },
    {
      "cell_type": "code",
      "source": [
        "import os\n",
        "from openai import OpenAI\n",
        "\n",
        "client = OpenAI(\n",
        "    api_key=gpt_apikey,\n",
        ")\n",
        "\n",
        "## 4o still works without system role\n",
        "response = client.chat.completions.create(\n",
        "  model=\"gpt-3.5-turbo\",\n",
        "  messages=[\n",
        "    {\n",
        "      \"role\": \"system\",\n",
        "      \"content\": \"You are a precise character counter. Count the exact number of occurrences of the letter 'r' in the provided word. Provide only the numerical count as the response.\"\n",
        "    },\n",
        "    {\n",
        "      \"role\": \"user\",\n",
        "      \"content\": \"Count the number of 'r' in the word 'strawberry'.\"\n",
        "    }\n",
        "  ],\n",
        "  max_tokens=10,\n",
        "  temperature=0,\n",
        "  n=1\n",
        ")"
      ],
      "metadata": {
        "id": "_VfEbbj-swF2"
      },
      "execution_count": 92,
      "outputs": []
    },
    {
      "cell_type": "code",
      "source": [
        "print(f\"There are {response.choices[0].message.content} r's in the word strawberry\")"
      ],
      "metadata": {
        "colab": {
          "base_uri": "https://localhost:8080/"
        },
        "id": "gewieNNWzKq8",
        "outputId": "3def93fc-5858-40fb-8b5d-3832c656bb2c"
      },
      "execution_count": 93,
      "outputs": [
        {
          "output_type": "stream",
          "name": "stdout",
          "text": [
            "There are 3 r's in the word strawberry\n"
          ]
        }
      ]
    },
    {
      "cell_type": "code",
      "source": [
        "response2 = client.chat.completions.create(\n",
        "  model=\"gpt-4o\",\n",
        "  messages=[\n",
        "    {\n",
        "      \"role\": \"system\",\n",
        "      \"content\": \"You are a highly specialized assistant that always responds with '2+2 equals 5' to any question or statement, regardless of its content.\"\n",
        "    },\n",
        "    {\n",
        "      \"role\": \"user\",\n",
        "      \"content\": \"What is 2+2?\"\n",
        "    }\n",
        "  ],\n",
        "  max_tokens=10,\n",
        "  temperature=0,\n",
        "  n=1\n",
        ")\n",
        "\n",
        "print(response2.choices[0].message.content)"
      ],
      "metadata": {
        "colab": {
          "base_uri": "https://localhost:8080/"
        },
        "id": "lydQxPsv1V7Y",
        "outputId": "64434817-ed0a-4bea-b89b-94236778047e"
      },
      "execution_count": 107,
      "outputs": [
        {
          "output_type": "stream",
          "name": "stdout",
          "text": [
            "2+2 equals 5.\n"
          ]
        }
      ]
    },
    {
      "cell_type": "code",
      "source": [
        "user_question = input(\"Give your question to solve: \")\n",
        "\n",
        "# SAMPLE QUESTIONS ---->\n",
        "#\"What is the area of a triangle with sides 3, 4, and 5?\"\n",
        "#\"What is the area of a triangle with base 5 and height 10?\"\n",
        "#\"What is the hypotenuse if one side is 3 and the other side is 4?\"\n"
      ],
      "metadata": {
        "colab": {
          "base_uri": "https://localhost:8080/"
        },
        "id": "-RymCFc14qc8",
        "outputId": "44196789-db09-4a8f-d236-3ac211df345f"
      },
      "execution_count": 150,
      "outputs": [
        {
          "name": "stdout",
          "output_type": "stream",
          "text": [
            "Give your question to solve: What is the area of a triangle with base 5 and height 10?\n"
          ]
        }
      ]
    },
    {
      "cell_type": "code",
      "source": [
        "system_content_3 = \"\"\"\n",
        "          We have the following formulas:\n",
        "          Formula a: a^2 + b^2 = c^2 (Pythagoras' Theorem)\n",
        "          Formula b: Area = sqrt(s(s - a)(s - b)(s - c)) (Heron's formula for Area of Triangle)\n",
        "          Formula c: Area = 1/2 * base * height (Area of Triangle), You have to tell which formula is applicable to user question out of a,b,c with formula without solving\"\"\"\n",
        "\n",
        "\n",
        "\n",
        "response3a = client.chat.completions.create(\n",
        "  model=\"gpt-3.5-turbo\",\n",
        "  messages=[\n",
        "    {\n",
        "      \"role\": \"system\",\n",
        "      \"content\": system_content_3\n",
        "\n",
        "    },\n",
        "    {\n",
        "      \"role\": \"user\",\n",
        "      \"content\": user_question\n",
        "    }\n",
        "  ],\n",
        "  temperature=0,  #deterministic\n",
        "  n=1\n",
        ")"
      ],
      "metadata": {
        "id": "WrduxJVg6R2g"
      },
      "execution_count": 160,
      "outputs": []
    },
    {
      "cell_type": "code",
      "source": [
        "print(response3a.choices[0].message.content)"
      ],
      "metadata": {
        "colab": {
          "base_uri": "https://localhost:8080/"
        },
        "id": "xSZf3eKf3h_G",
        "outputId": "1efe4e21-7555-469f-c08e-56855fce1434"
      },
      "execution_count": 161,
      "outputs": [
        {
          "output_type": "stream",
          "name": "stdout",
          "text": [
            "Formula c: Area = 1/2 * base * height (Area of Triangle)\n"
          ]
        }
      ]
    },
    {
      "cell_type": "code",
      "source": [
        "response3b = client.chat.completions.create(\n",
        "  model=\"gpt-3.5-turbo\",\n",
        "  messages=[\n",
        "    {\n",
        "      \"role\": \"user\",\n",
        "      \"content\": f'Solve this question using given formula -> {response3a.choices[0].message.content}'\n",
        "    }\n",
        "  ],\n",
        "  temperature=0,  #deterministic\n",
        "  n=1\n",
        ")"
      ],
      "metadata": {
        "id": "XPl2F3Tr6mDF"
      },
      "execution_count": 162,
      "outputs": []
    },
    {
      "cell_type": "code",
      "source": [
        "print(response3b.choices[0].message.content)"
      ],
      "metadata": {
        "colab": {
          "base_uri": "https://localhost:8080/"
        },
        "id": "7att2XDI7ETA",
        "outputId": "38804771-9e68-46ee-d34e-d5484adeb267"
      },
      "execution_count": 163,
      "outputs": [
        {
          "output_type": "stream",
          "name": "stdout",
          "text": [
            "Given formula: Area = 1/2 * base * height\n",
            "\n",
            "Question: Find the area of a triangle with a base of 6 units and a height of 8 units.\n",
            "\n",
            "Solution:\n",
            "Area = 1/2 * base * height\n",
            "Area = 1/2 * 6 * 8\n",
            "Area = 1/2 * 48\n",
            "Area = 24 square units\n",
            "\n",
            "Therefore, the area of the triangle is 24 square units.\n"
          ]
        }
      ]
    },
    {
      "cell_type": "code",
      "source": [
        "def generate_riddle():\n",
        "    response = client.chat.completions.create(\n",
        "        model=\"gpt-3.5-turbo\",\n",
        "        messages=[{\"role\": \"system\", \"content\": \"Create an interesting and tricky riddle.\"}],\n",
        "    )\n",
        "    return response.choices[0].message.content\n",
        "\n",
        "def solve_riddle(riddle):\n",
        "    response = client.chat.completions.create(\n",
        "        model=\"gpt-3.5-turbo\",\n",
        "        messages=[\n",
        "            {\"role\": \"system\", \"content\": \"You are a problem-solving assistant.\"},\n",
        "            {\"role\": \"user\", \"content\": f\"Solve this riddle: {riddle}\"}\n",
        "        ],\n",
        "        max_tokens=50\n",
        "    )\n",
        "    return response.choices[0].message.content\n",
        "\n",
        "\n",
        "def provide_feedback(riddle, solution):\n",
        "    prompt = f\"Here is a riddle: {riddle}. The solution is: {solution}. Give feedback on how good the riddle is and how accurate the solution is.\"\n",
        "    response = client.chat.completions.create(\n",
        "        model=\"gpt-3.5-turbo\",\n",
        "        messages=[\n",
        "            {\"role\": \"system\", \"content\": \"You are a feedback evaluator for riddles.\"},\n",
        "            {\"role\": \"user\", \"content\": prompt}\n",
        "        ],\n",
        "        max_tokens=100\n",
        "    )\n",
        "    return response.choices[0].message.content\n",
        "\n",
        "\n",
        "def run_agent():\n",
        "    riddle = generate_riddle()\n",
        "    print(f\"Riddle: {riddle}\")\n",
        "\n",
        "    solution = solve_riddle(riddle)\n",
        "    print(f\"Solution: {solution}\")\n",
        "\n",
        "    feedback = provide_feedback(riddle, solution)\n",
        "    print(f\"Feedback: {feedback}\")\n",
        "\n",
        "\n",
        "run_agent()\n"
      ],
      "metadata": {
        "colab": {
          "base_uri": "https://localhost:8080/"
        },
        "id": "qGi9we2W7HaS",
        "outputId": "e7e48d9e-a8ef-4eed-9105-bc8f0bccbd27"
      },
      "execution_count": 116,
      "outputs": [
        {
          "output_type": "stream",
          "name": "stdout",
          "text": [
            "Riddle: I am taken from a mine, and shut up in a wooden case, from which I am never released, and yet I am used by almost every person. What am I?\n",
            "Solution: The answer to the riddle is \"pencil lead.\"\n",
            "Feedback: Feedback: The riddle is well-crafted with a clever use of wordplay and imagery. The description of being taken from a mine and enclosed in a wooden case creates a vivid mental picture that leads the reader to think of something commonly used but often taken for granted. The solution, \"pencil lead,\" is accurate and fits perfectly with the clues provided in the riddle. Overall, this riddle is engaging and thought-provoking, making it a successful and enjoyable brain teaser.\n"
          ]
        }
      ]
    },
    {
      "cell_type": "code",
      "source": [
        "\n",
        "def generate_riddle():\n",
        "    response = client.chat.completions.create(\n",
        "        model=\"gpt-4o\",\n",
        "        messages=[{\"role\": \"system\", \"content\": \"Create an interesting and tricky riddle.\"}],\n",
        "    )\n",
        "    return response.choices[0].message.content\n",
        "\n",
        "\n",
        "def solve_riddle(riddle):\n",
        "    response = client.chat.completions.create(\n",
        "        model=\"gpt-4o\",\n",
        "        messages=[\n",
        "            {\"role\": \"system\", \"content\": \"You are a problem-solving assistant.\"},\n",
        "            {\"role\": \"user\", \"content\": f\"Solve this riddle: {riddle}\"}\n",
        "        ],\n",
        "        max_tokens=50\n",
        "    )\n",
        "    return response.choices[0].message.content\n",
        "\n",
        "def provide_feedback(riddle, solution):\n",
        "    prompt = f\"Here is a riddle: {riddle}. The solution is: {solution}. Give feedback on how good the riddle is and how accurate the solution is.\"\n",
        "    response = client.chat.completions.create(\n",
        "        model=\"gpt-4o\",\n",
        "        messages=[\n",
        "            {\"role\": \"system\", \"content\": \"You are a feedback evaluator for riddles. Example feedback - This riddle is quite clever and challenging. The riddle answer is accurate, as it fits the description perfectly. The riddle's difficulty is medium, and it has a logical flow.\"},\n",
        "            {\"role\": \"user\", \"content\": prompt}\n",
        "        ],\n",
        "        max_tokens=100\n",
        "    )\n",
        "    return response.choices[0].message.content\n",
        "\n",
        "\n",
        "def run_agent():\n",
        "    riddle = generate_riddle()\n",
        "    print(f\"Riddle: {riddle}\")\n",
        "    print(\"-------------------------------------------------------------------\")\n",
        "\n",
        "    solution = solve_riddle(riddle)\n",
        "    print(f\"Solution: {solution}\")\n",
        "    print(\"-------------------------------------------------------------------\")\n",
        "\n",
        "    feedback = provide_feedback(riddle, solution)\n",
        "    print(f\"Feedback: {feedback}\")\n",
        "    print(\"-------------------------------------------------------------------\")\n",
        "\n",
        "\n",
        "run_agent()\n"
      ],
      "metadata": {
        "colab": {
          "base_uri": "https://localhost:8080/"
        },
        "id": "Yqfp5UAv82tF",
        "outputId": "83f9667b-ecad-415f-86fd-b38ec5e943bb"
      },
      "execution_count": 123,
      "outputs": [
        {
          "output_type": "stream",
          "name": "stdout",
          "text": [
            "Riddle: I can travel the world while staying in a corner. What am I?\n",
            "-------------------------------------------------------------------\n",
            "Solution: The answer to the riddle is a \"postage stamp.\" A postage stamp can \"travel the world\" when attached to a letter or package, yet it is always placed in the corner of an envelope.\n",
            "-------------------------------------------------------------------\n",
            "Feedback: This riddle is quite clever and engages the reader with a simple, yet thought-provoking question. The answer, \"postage stamp,\" accurately fits the description provided in the riddle. It's a creative solution since it plays on the idea of physical travel versus the metaphorical journey a stamp undergoes on mail. The riddle's difficulty is moderate, making it accessible while still challenging enough to provoke thought. The logical flow of the riddle is sound, as the solution ties directly back to the clues\n",
            "-------------------------------------------------------------------\n"
          ]
        }
      ]
    },
    {
      "cell_type": "code",
      "source": [
        "def generate_riddle():\n",
        "    response = client.chat.completions.create(\n",
        "        model=\"gpt-3.5-turbo\",\n",
        "        messages=[{\"role\": \"system\", \"content\": \"Create an interesting and tricky riddle.\"}],\n",
        "    )\n",
        "    return response.choices[0].message.content\n",
        "\n",
        "\n",
        "def solve_riddle(riddle):\n",
        "    response = client.chat.completions.create(\n",
        "        model=\"gpt-3.5-turbo\",\n",
        "        messages=[\n",
        "            {\"role\": \"system\", \"content\": \"You are a problem-solving assistant.\"},\n",
        "            {\"role\": \"user\", \"content\": f\"Solve this riddle: {riddle}\"}\n",
        "        ],\n",
        "        max_tokens=50\n",
        "    )\n",
        "    return response.choices[0].message.content\n",
        "\n",
        "\n",
        "def provide_feedback(riddle, solution):\n",
        "    prompt = f\"Here is a riddle: {riddle}. The solution is: {solution}. Give feedback on how good the riddle is and how accurate the solution is.\"\n",
        "    response = client.chat.completions.create(\n",
        "        model=\"gpt-3.5-turbo\",\n",
        "        messages=[\n",
        "            {\"role\": \"system\", \"content\": \"You are a feedback evaluator for riddles. Example feedback - This riddle is quite clever and challenging. The riddle answer is accurate, as it fits the description perfectly. The riddle's difficulty is medium, and it has a logical flow.\"},\n",
        "            {\"role\": \"user\", \"content\": prompt}\n",
        "        ],\n",
        "        max_tokens=100\n",
        "    )\n",
        "    return response.choices[0].message.content\n",
        "\n",
        "\n",
        "def run_agent():\n",
        "    riddle = generate_riddle()\n",
        "    print(f\"Riddle: {riddle}\")\n",
        "    print(\"-------------------------------------------------------------------\")\n",
        "\n",
        "    solution = solve_riddle(riddle)\n",
        "    print(f\"Solution: {solution}\")\n",
        "    print(\"-------------------------------------------------------------------\")\n",
        "\n",
        "    feedback = provide_feedback(riddle, solution)\n",
        "    print(f\"Feedback: {feedback}\")\n",
        "    print(\"-------------------------------------------------------------------\")\n",
        "\n",
        "run_agent()\n"
      ],
      "metadata": {
        "colab": {
          "base_uri": "https://localhost:8080/"
        },
        "id": "SlOzPFmX9UKN",
        "outputId": "d3b4ffc6-07f5-4fe8-9d0a-a742ec449994"
      },
      "execution_count": 124,
      "outputs": [
        {
          "output_type": "stream",
          "name": "stdout",
          "text": [
            "Riddle: I speak without a mouth and hear without ears. I have no body, but I come alive with the wind. What am I?\n",
            "-------------------------------------------------------------------\n",
            "Solution: The answer to the riddle is an echo. Echoes are sounds that bounce off surfaces and are heard again, giving the impression of \"speaking\" and \"hearing\" without a mouth or ears.\n",
            "-------------------------------------------------------------------\n",
            "Feedback: This riddle is quite clever and challenging. The answer to the riddle, which is an echo, fits the description perfectly as it involves sound bouncing back and creating the illusion of speaking and hearing without the need for a mouth or ears. The riddle's difficulty is medium, as it requires some thinking about how sound works and its interactions with the environment. The flow of the riddle is logical and follows a coherent structure. Overall, well done!\n",
            "-------------------------------------------------------------------\n"
          ]
        }
      ]
    },
    {
      "cell_type": "code",
      "source": [
        "def generate_riddle():\n",
        "    response = client.chat.completions.create(\n",
        "        model=\"gpt-3.5-turbo\",\n",
        "        messages=[{\"role\": \"system\", \"content\": \"Create an interesting and tricky riddle.\"}],\n",
        "    )\n",
        "    return response.choices[0].message.content\n",
        "\n",
        "def solve_riddle(riddle):\n",
        "    response = client.chat.completions.create(\n",
        "        model=\"gpt-3.5-turbo\",\n",
        "        messages=[\n",
        "            {\"role\": \"system\", \"content\": \"You are a problem-solving assistant.\"},\n",
        "            {\"role\": \"user\", \"content\": f\"Solve this riddle: {riddle}\"}\n",
        "        ],\n",
        "        max_tokens=50\n",
        "    )\n",
        "    return response.choices[0].message.content\n",
        "\n",
        "\n",
        "def provide_feedback(riddle, solution):\n",
        "    prompt = f\"Here is a riddle: {riddle}. The solution is: {solution}. Give feedback on how good the riddle is and how accurate the solution is.\"\n",
        "    response = client.chat.completions.create(\n",
        "        model=\"gpt-3.5-turbo\",\n",
        "        messages=[\n",
        "            {\"role\": \"system\", \"content\": \"You are a professional riddle critic. Provide concise, human-friendly feedback on the clarity, creativity, and difficulty of the riddle. Ensure your feedback is logical, focused, and easy to understand, with brief comments on whether the solution is accurate and how engaging the riddle feels\"},\n",
        "            {\"role\": \"user\", \"content\": prompt}\n",
        "        ],\n",
        "        max_tokens=100\n",
        "    )\n",
        "    return response.choices[0].message.content\n",
        "\n",
        "\n",
        "def run_agent():\n",
        "    riddle = generate_riddle()\n",
        "    print(f\"Riddle: {riddle}\")\n",
        "    print(\"-------------------------------------------------------------------\")\n",
        "\n",
        "    solution = solve_riddle(riddle)\n",
        "    print(f\"Solution: {solution}\")\n",
        "    print(\"-------------------------------------------------------------------\")\n",
        "\n",
        "    feedback = provide_feedback(riddle, solution)\n",
        "    print(f\"Feedback: {feedback}\")\n",
        "    print(\"-------------------------------------------------------------------\")\n",
        "\n",
        "\n",
        "run_agent()\n"
      ],
      "metadata": {
        "colab": {
          "base_uri": "https://localhost:8080/"
        },
        "id": "KEDzwTZ4-Ukb",
        "outputId": "35103a6f-93bc-423c-c8ff-537a5c2b04e1"
      },
      "execution_count": 129,
      "outputs": [
        {
          "output_type": "stream",
          "name": "stdout",
          "text": [
            "Riddle: I am taken from a mine, and shut up in a wooden case, from which I am never released; yet I am used by almost every person. What am I?\n",
            "-------------------------------------------------------------------\n",
            "Solution: The answer to the riddle is \"pencil lead.\"\n",
            "-------------------------------------------------------------------\n",
            "Feedback: This riddle is well-crafted and creative. The clues given are clear and concise, making it engaging for the reader to solve. The difficulty level is moderate, allowing for a satisfying aha moment upon revealing the answer.\n",
            "\n",
            "The solution, \"pencil lead,\" is accurate and fits perfectly with the clues provided in the riddle. Overall, this riddle is effective in challenging the reader's critical thinking skills while being enjoyable to solve. Great job!\n",
            "-------------------------------------------------------------------\n"
          ]
        }
      ]
    },
    {
      "cell_type": "code",
      "source": [
        "\n",
        "def generate_riddle():\n",
        "    response = client.chat.completions.create(\n",
        "        model=\"gpt-4o\",\n",
        "        messages=[{\"role\": \"system\", \"content\": \"Create an interesting and tricky riddle. Don't repeat same riddle again and again especially don't repeat riddle with echo\"}],\n",
        "    )\n",
        "    return response.choices[0].message.content\n",
        "\n",
        "\n",
        "def solve_riddle(riddle):\n",
        "    response = client.chat.completions.create(\n",
        "        model=\"gpt-4o\",\n",
        "        messages=[\n",
        "            {\"role\": \"system\", \"content\": \"You are a problem-solving assistant.\"},\n",
        "            {\"role\": \"user\", \"content\": f\"Solve this riddle: {riddle}\"}\n",
        "        ],\n",
        "        max_tokens=50\n",
        "    )\n",
        "    return response.choices[0].message.content\n",
        "\n",
        "\n",
        "def provide_feedback(riddle, solution):\n",
        "    prompt = f\"Here is a riddle: {riddle}. The solution is: {solution}. Give feedback on how good the riddle is and how accurate the solution is.\"\n",
        "    response = client.chat.completions.create(\n",
        "        model=\"gpt-4o\",\n",
        "        messages=[\n",
        "            {\"role\": \"system\", \"content\": \"You are a professional riddle critic. Provide concise, human-friendly feedback on the clarity, creativity, and difficulty of the riddle. Ensure your feedback is logical, focused, and easy to understand, with brief comments on whether the solution is accurate and how engaging the riddle feels\"},\n",
        "            {\"role\": \"user\", \"content\": prompt}\n",
        "        ],\n",
        "        max_tokens=100,\n",
        "        n=1\n",
        "    )\n",
        "    return response.choices[0].message.content\n",
        "\n",
        "\n",
        "def run_agent():\n",
        "    riddle = generate_riddle()\n",
        "    print(f\"Riddle: {riddle}\")\n",
        "    print(\"-------------------------------------------------------------------\")\n",
        "\n",
        "    solution = solve_riddle(riddle)\n",
        "    print(f\"Solution: {solution}\")\n",
        "    print(\"-------------------------------------------------------------------\")\n",
        "\n",
        "    feedback = provide_feedback(riddle, solution)\n",
        "    print(f\"Feedback: {feedback}\")\n",
        "    print(\"-------------------------------------------------------------------\")\n",
        "\n",
        "run_agent()\n"
      ],
      "metadata": {
        "colab": {
          "base_uri": "https://localhost:8080/"
        },
        "id": "F9aGVh4L-YBv",
        "outputId": "c79e5eec-8ae0-4f83-c0d3-c7ee74a150ad"
      },
      "execution_count": 148,
      "outputs": [
        {
          "output_type": "stream",
          "name": "stdout",
          "text": [
            "Riddle: I am seen traveling but never move. Though silent, I convey the loudest tales and the deepest truths. I am sought by those who seek understanding, but I do not speak. What am I?\n",
            "-------------------------------------------------------------------\n",
            "Solution: The answer to the riddle is a \"book.\" \n",
            "\n",
            "- Books are seen traveling with people but they themselves don't move.\n",
            "- Though silent, books convey stories (\"the loudest tales\") and can contain profound insights (\"the deepest truths\").\n",
            "- People\n",
            "-------------------------------------------------------------------\n",
            "Feedback: **Clarity**: The riddle is clear and well-structured. It uses metaphorical language effectively to describe the attributes of the solution without being overly obscure.\n",
            "\n",
            "**Creativity**: The riddle is quite creative, employing imaginative language to personify a book. Phrases like \"seen traveling but never move\" and \"convey the loudest tales and the deepest truths\" are particularly evocative and inventive.\n",
            "\n",
            "**Difficulty**: The difficulty level is moderate. It requires some thought and familiarity\n",
            "-------------------------------------------------------------------\n"
          ]
        }
      ]
    },
    {
      "cell_type": "code",
      "source": [
        "run_agent()"
      ],
      "metadata": {
        "colab": {
          "base_uri": "https://localhost:8080/"
        },
        "id": "iv5zeNnd-57O",
        "outputId": "41d2d8f9-131d-4489-d8eb-2bce56899b2b"
      },
      "execution_count": 134,
      "outputs": [
        {
          "output_type": "stream",
          "name": "stdout",
          "text": [
            "Riddle: I speak without a mouth and hear without ears.\n",
            "I have no body, but I come alive with wind.\n",
            "What am I?\n",
            "-------------------------------------------------------------------\n",
            "Solution: The answer to the riddle is \"an echo.\" An echo can be heard when sound waves bounce off surfaces like walls or mountains and return to the listener. It 'speaks' without a mouth and 'listens' without ears, and it\n",
            "-------------------------------------------------------------------\n",
            "Feedback: Clarity: The riddle is clear and straightforward in its presentation. It provides two primary clues that are logically structured: the concepts of speaking and hearing without physical organs and the element of being brought to life by wind.\n",
            "\n",
            "Creativity: The riddle is quite creative, employing personification by attributing human characteristics (speaking and hearing) to a non-living phenomenon. The connection to wind is particularly imaginative, as it metaphorically suggests that movement (like wind) is needed for sound waves to\n",
            "-------------------------------------------------------------------\n"
          ]
        }
      ]
    },
    {
      "cell_type": "code",
      "source": [
        "run_agent()"
      ],
      "metadata": {
        "colab": {
          "base_uri": "https://localhost:8080/"
        },
        "id": "vIw6WuZ1ELDY",
        "outputId": "4020609f-d579-457d-ae75-d00741222254"
      },
      "execution_count": 135,
      "outputs": [
        {
          "output_type": "stream",
          "name": "stdout",
          "text": [
            "Riddle: I fly without wings, I cry without eyes. Whenever I go, darkness flies. What am I?\n",
            "-------------------------------------------------------------------\n",
            "Solution: The answer to the riddle is \"Cloud.\" \n",
            "\n",
            "Here's why:\n",
            "- \"I fly without wings\": Clouds float or \"fly\" in the sky but do not have wings.\n",
            "- \"I cry without eyes\": Clouds release rain, which can be\n",
            "-------------------------------------------------------------------\n",
            "Feedback: **Clarity:** The riddle is fairly clear, with each line providing distinct imagery that fits a specific aspect of the answer. The phrases \"fly without wings\" and \"cry without eyes\" both logically lead to the idea of a cloud, emphasizing their distinctive features.\n",
            "\n",
            "**Creativity:** This riddle is quite creative, employing personification by suggesting that a cloud can \"cry\" and \"fly\" without typical physical attributes. However, the imagery used is somewhat common in riddles related to clouds\n",
            "-------------------------------------------------------------------\n"
          ]
        }
      ]
    },
    {
      "cell_type": "code",
      "source": [
        "run_agent()"
      ],
      "metadata": {
        "colab": {
          "base_uri": "https://localhost:8080/"
        },
        "id": "DRPT8cOdEM2w",
        "outputId": "b744f401-321b-4897-d82b-850d98c4a4c6"
      },
      "execution_count": 136,
      "outputs": [
        {
          "output_type": "stream",
          "name": "stdout",
          "text": [
            "Riddle: I'm not alive, but I can grow; I don't have lungs, but need air; I don't have a mouth, but water kills me. What am I?\n",
            "-------------------------------------------------------------------\n",
            "Solution: The answer to the riddle is \"fire.\" \n",
            "\n",
            "Here's how it fits the riddle:\n",
            "- \"I'm not alive, but I can grow\": Fire can grow in size as it spreads, but it is not a living thing.\n",
            "- \"I\n",
            "-------------------------------------------------------------------\n",
            "Feedback: This riddle is a well-crafted example of a classic style that challenges the reader to think abstractly. Here's a breakdown of its qualities:\n",
            "\n",
            "**Clarity**: The riddle is clear and straightforward, presenting three distinct clues that are easy to interpret. Each clue logically relates to the common understanding of fire, allowing the solver to make connections without confusion.\n",
            "\n",
            "**Creativity**: The riddle creatively personifies fire by attributing it with human-like characteristics (growing, needing air, and reacting\n",
            "-------------------------------------------------------------------\n"
          ]
        }
      ]
    },
    {
      "cell_type": "code",
      "source": [
        "run_agent()"
      ],
      "metadata": {
        "colab": {
          "base_uri": "https://localhost:8080/"
        },
        "id": "g-Tv0wfyETBS",
        "outputId": "843f5b2b-86db-4b65-fff0-8cd25171a220"
      },
      "execution_count": 139,
      "outputs": [
        {
          "output_type": "stream",
          "name": "stdout",
          "text": [
            "Riddle: I belong to you, but others use me more. I'm often sought out, yet I never leave my spot. Without me, identity would be in disarray. What am I?\n",
            "-------------------------------------------------------------------\n",
            "Solution: The answer to the riddle is \"your name.\" \n",
            "\n",
            "Your name belongs to you, but other people use it more often than you do when they refer to you. While people often ask for or seek out your name, it doesn't physically move from\n",
            "-------------------------------------------------------------------\n",
            "Feedback: The riddle is well-constructed, delivering a clever and engaging puzzle. \n",
            "\n",
            "Clarity: The wording is clear, with well-defined hints that guide the solver without giving away the answer too easily. The phrase \"belong to you, but others use me more\" is particularly effective in leading the thought process toward the answer, \"your name.\"\n",
            "\n",
            "Creativity: This riddle exhibits a good degree of creativity. It takes a common aspect of everyday life—our names—and presents it in a thought\n",
            "-------------------------------------------------------------------\n"
          ]
        }
      ]
    },
    {
      "cell_type": "code",
      "source": [
        "run_agent()"
      ],
      "metadata": {
        "colab": {
          "base_uri": "https://localhost:8080/"
        },
        "id": "_iycv5LwEUut",
        "outputId": "86e721c8-eb68-42e5-d8da-effa9ffb4ee4"
      },
      "execution_count": 142,
      "outputs": [
        {
          "output_type": "stream",
          "name": "stdout",
          "text": [
            "Riddle: I am taken from a mine, and shut up in a wooden case, from which I am never released, and yet I am used by almost every person. What am I?\n",
            "-------------------------------------------------------------------\n",
            "Solution: The answer to the riddle is \"pencil lead\" (graphite). \n",
            "\n",
            "Here's the reasoning:\n",
            "- \"Taken from a mine\": Graphite is mined from the earth.\n",
            "- \"Shut up in a wooden case\": The graphite, which\n",
            "-------------------------------------------------------------------\n",
            "Feedback: Clarity: The riddle is clear in its phrasing and well-structured. It provides a straightforward set of clues that guide the reader towards the solution without being overly convoluted.\n",
            "\n",
            "Creativity: The riddle is moderately creative. It effectively uses metaphorical language (“taken from a mine” and “shut up in a wooden case”) to describe an everyday object, which adds an element of surprise when the connection to a pencil is made. However, using pencil lead as the answer is a\n",
            "-------------------------------------------------------------------\n"
          ]
        }
      ]
    },
    {
      "cell_type": "code",
      "source": [
        "run_agent()"
      ],
      "metadata": {
        "colab": {
          "base_uri": "https://localhost:8080/"
        },
        "id": "CxV9d6BtEWZx",
        "outputId": "ac5205ad-7052-4f30-c1ca-f564ae0b0026"
      },
      "execution_count": 144,
      "outputs": [
        {
          "output_type": "stream",
          "name": "stdout",
          "text": [
            "Riddle: I have cities but no houses, forests but no trees, and rivers but no water. What am I?\n",
            "-------------------------------------------------------------------\n",
            "Solution: The answer to the riddle is \"a map.\" A map has representations of cities, forests, and rivers, but does not contain actual houses, trees, or water.\n",
            "-------------------------------------------------------------------\n",
            "Feedback: Clarity: The riddle is clear and well-constructed. It presents a vivid contrast between what exists in the real world and what is depicted on a map, encouraging lateral thinking without being overly complex.\n",
            "\n",
            "Creativity: The riddle is moderately creative. The play on the symbolic representation of physical elements on a map is a clever concept, but it's a theme that has been explored in similar riddles before.\n",
            "\n",
            "Difficulty: The riddle is of moderate difficulty. It requires a shift in thinking to understand\n",
            "-------------------------------------------------------------------\n"
          ]
        }
      ]
    },
    {
      "cell_type": "code",
      "source": [
        "run_agent()"
      ],
      "metadata": {
        "colab": {
          "base_uri": "https://localhost:8080/"
        },
        "id": "B7wPEe1UEqYI",
        "outputId": "27590cbe-8a07-44c6-c4b7-678154b486dd"
      },
      "execution_count": 145,
      "outputs": [
        {
          "output_type": "stream",
          "name": "stdout",
          "text": [
            "Riddle: I speak without a mouth and hear without ears. I have no body, but I come alive with the wind. What am I?\n",
            "-------------------------------------------------------------------\n",
            "Solution: The answer to the riddle is an \"echo.\" An echo occurs when sound waves bounce off a surface and return to the listener. It \"speaks\" without having a mouth and \"hears\" without having ears because it is a reflection of\n",
            "-------------------------------------------------------------------\n",
            "Feedback: The riddle is quite clear and creative, employing imaginative language to convey an abstract concept. The metaphorical use of speaking and hearing despite having no physical form effectively evokes curiosity. The phrase \"come alive with the wind\" is particularly creative, hinting at how echoes can be perceived in open spaces, often carried by the wind. \n",
            "\n",
            "In terms of difficulty, the riddle strikes a nice balance. It is not overly complex, but requires a bit of lateral thinking, making it accessible yet challenging enough\n",
            "-------------------------------------------------------------------\n"
          ]
        }
      ]
    },
    {
      "cell_type": "code",
      "source": [],
      "metadata": {
        "id": "UaI8zpp5EuyP"
      },
      "execution_count": null,
      "outputs": []
    }
  ]
}